{
 "cells": [
  {
   "cell_type": "code",
   "execution_count": null,
   "metadata": {
    "collapsed": true
   },
   "outputs": [],
   "source": [
    "import matplotlib.pyplot as plt\n",
    "import numpy as np\n",
    "import scipy.misc as sm\n",
    "\n",
    "%load_ext autoreload\n",
    "%autoreload 2\n",
    "\n",
    "from data_feeder import *\n",
    "\n",
    "from nn import *\n",
    "from inspect_images import *\n",
    "\n",
    "config = ruamel_yaml.load(open(\"./simple_net_config.yaml\"))\n",
    "network_config = NetworkConfig(**config[\"SimpleNetConfig\"])\n",
    "env_config = EnvConfig(**config[\"EnvConfig\"])\n",
    "\n",
    "simple_net = SimpleNet(network_config, env_config)\n",
    "\n",
    "image_iter = imageLabelIterator(env_config.sample_dir)\n",
    "s = SlidingWindowSampleCreator(network_config.slide_x, network_config.slide_y, network_config.window_width,\n",
    "                               network_config.window_height, normalize_label=True,\n",
    "                               yes_label_weight=network_config.yes_label_weight,\n",
    "                               no_label_weight=network_config.no_label_weight)\n",
    "\n",
    "sliding_window_iter = s.create_sliding_window_from_iter(image_iter)\n",
    "\n",
    "loss, image, orig_label, output, gradients = simple_net.train(sliding_window_iter, is_training=False)"
   ]
  }
 ],
 "metadata": {
  "kernelspec": {
   "display_name": "Python 2",
   "language": "python",
   "name": "python2"
  },
  "language_info": {
   "codemirror_mode": {
    "name": "ipython",
    "version": 2
   },
   "file_extension": ".py",
   "mimetype": "text/x-python",
   "name": "python",
   "nbconvert_exporter": "python",
   "pygments_lexer": "ipython2",
   "version": "2.7.6"
  }
 },
 "nbformat": 4,
 "nbformat_minor": 0
}
